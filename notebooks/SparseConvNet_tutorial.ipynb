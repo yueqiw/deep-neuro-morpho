{
 "cells": [
  {
   "cell_type": "code",
   "execution_count": 13,
   "metadata": {
    "collapsed": true
   },
   "outputs": [],
   "source": [
    "import torch\n",
    "import numpy as np\n",
    "import sparseconvnet as scn"
   ]
  },
  {
   "cell_type": "code",
   "execution_count": 3,
   "metadata": {},
   "outputs": [
    {
     "name": "stdout",
     "output_type": "stream",
     "text": [
      "(torch.Size([2, 32, 10, 10]), 'torch.cuda.FloatTensor')\n"
     ]
    }
   ],
   "source": [
    "\n",
    "\n",
    "# Use the GPU if there is one, otherwise CPU\n",
    "use_gpu = torch.cuda.is_available()\n",
    "\n",
    "model = scn.Sequential().add(\n",
    "    scn.SparseVggNet(2, 1,\n",
    "                     [['C',  8], ['C',  8], ['MP', 3, 2],\n",
    "                      ['C', 16], ['C', 16], ['MP', 3, 2],\n",
    "                      ['C', 24], ['C', 24], ['MP', 3, 2]])\n",
    ").add(\n",
    "    scn.SubmanifoldConvolution(2, 24, 32, 3, False)\n",
    ").add(\n",
    "    scn.BatchNormReLU(32)\n",
    ").add(\n",
    "    scn.SparseToDense(2,32)\n",
    ")\n",
    "if use_gpu:\n",
    "    model.cuda()\n",
    "\n",
    "# output will be 10x10\n",
    "inputSpatialSize = model.input_spatial_size(torch.LongTensor([10, 10]))\n",
    "input = scn.InputBatch(2, inputSpatialSize)\n",
    "\n",
    "msg = [\n",
    "    \" X   X  XXX  X    X    XX     X       X   XX   XXX   X    XXX   \",\n",
    "    \" X   X  X    X    X   X  X    X       X  X  X  X  X  X    X  X  \",\n",
    "    \" XXXXX  XX   X    X   X  X    X   X   X  X  X  XXX   X    X   X \",\n",
    "    \" X   X  X    X    X   X  X     X X X X   X  X  X  X  X    X  X  \",\n",
    "    \" X   X  XXX  XXX  XXX  XX       X   X     XX   X  X  XXX  XXX   \"]\n",
    "\n",
    "#Add a sample using setLocation\n",
    "input.addSample()\n",
    "for y, line in enumerate(msg):\n",
    "    for x, c in enumerate(line):\n",
    "        if c == 'X':\n",
    "            location = torch.LongTensor([x, y])\n",
    "            featureVector = torch.FloatTensor([1])\n",
    "            input.setLocation(location, featureVector, 0)\n",
    "\n",
    "#Add a sample using setLocations\n",
    "input.addSample()\n",
    "locations = []\n",
    "features = []\n",
    "for y, line in enumerate(msg):\n",
    "    for x, c in enumerate(line):\n",
    "        if c == 'X':\n",
    "            locations.append([x,y])\n",
    "            features.append([1])\n",
    "locations = torch.LongTensor(locations)\n",
    "features = torch.FloatTensor(features)\n",
    "input.setLocations(locations, features, 0)\n",
    "\n",
    "# Optional: allow metadata preprocessing to be done in batch preparation threads\n",
    "# to improve GPU utilization.\n",
    "#\n",
    "# Parameter:\n",
    "#    3 if using MP3/2 pooling or C3/2 convolutions for downsizing,\n",
    "#    2 if using MP2 pooling for downsizing.\n",
    "input.precomputeMetadata(3)\n",
    "\n",
    "model.train()\n",
    "if use_gpu:\n",
    "    input.cuda()\n",
    "output = model.forward(input)\n",
    "\n",
    "# Output is 2x32x10x10: our minibatch has 2 samples, the network has 32 output\n",
    "# feature planes, and 10x10 is the spatial size of the output.\n",
    "print(output.size(), output.data.type())"
   ]
  },
  {
   "cell_type": "code",
   "execution_count": 3,
   "metadata": {},
   "outputs": [
    {
     "data": {
      "text/plain": [
       "Variable containing:\n",
       "(0 ,0 ,.,.) = \n",
       " -0.0000  0.0000  0.0000  ...   0.0000  0.0000  0.0000\n",
       " -0.0000  0.0000  0.0000  ...   0.0000  0.0000  0.0000\n",
       " -0.0000  0.0000  0.0000  ...   0.0000  0.0000  0.0000\n",
       "           ...             ⋱             ...          \n",
       "  1.8311  0.0000  0.0000  ...   0.0000  0.0000  0.0000\n",
       "  0.0000  0.0000  0.0000  ...   0.0000  0.0000  0.0000\n",
       "  0.0000  0.0000  0.0000  ...   0.0000  0.0000  0.0000\n",
       "\n",
       "(0 ,1 ,.,.) = \n",
       " -0.0000  0.0000  0.0000  ...   0.0000  0.0000  0.0000\n",
       " -0.0000  0.0000  0.0000  ...   0.0000  0.0000  0.0000\n",
       " -0.0000  0.0000  0.0000  ...   0.0000  0.0000  0.0000\n",
       "           ...             ⋱             ...          \n",
       "  0.7370  0.0000  0.0000  ...   0.0000  0.0000  0.0000\n",
       "  0.0000  0.0000  0.0000  ...   0.0000  0.0000  0.0000\n",
       "  0.0000  0.0000  0.0000  ...   0.0000  0.0000  0.0000\n",
       "\n",
       "(0 ,2 ,.,.) = \n",
       " -0.0000  0.0000  0.0000  ...   0.0000  0.0000  0.0000\n",
       "  1.1436  0.0000  0.0000  ...   0.0000  0.0000  0.0000\n",
       "  0.2771  0.0000  0.0000  ...   0.0000  0.0000  0.0000\n",
       "           ...             ⋱             ...          \n",
       " -0.0000  0.0000  0.0000  ...   0.0000  0.0000  0.0000\n",
       "  0.0000  0.0000  0.0000  ...   0.0000  0.0000  0.0000\n",
       "  0.0000  0.0000  0.0000  ...   0.0000  0.0000  0.0000\n",
       "   ...\n",
       "\n",
       "(0 ,29,.,.) = \n",
       "  1.1465  0.0000  0.0000  ...   0.0000  0.0000  0.0000\n",
       "  0.2784  0.0000  0.0000  ...   0.0000  0.0000  0.0000\n",
       " -0.0000  0.0000  0.0000  ...   0.0000  0.0000  0.0000\n",
       "           ...             ⋱             ...          \n",
       "  0.6748  0.0000  0.0000  ...   0.0000  0.0000  0.0000\n",
       "  0.0000  0.0000  0.0000  ...   0.0000  0.0000  0.0000\n",
       "  0.0000  0.0000  0.0000  ...   0.0000  0.0000  0.0000\n",
       "\n",
       "(0 ,30,.,.) = \n",
       " -0.0000  0.0000  0.0000  ...   0.0000  0.0000  0.0000\n",
       "  0.8857  0.0000  0.0000  ...   0.0000  0.0000  0.0000\n",
       "  0.1482  0.0000  0.0000  ...   0.0000  0.0000  0.0000\n",
       "           ...             ⋱             ...          \n",
       " -0.0000  0.0000  0.0000  ...   0.0000  0.0000  0.0000\n",
       "  0.0000  0.0000  0.0000  ...   0.0000  0.0000  0.0000\n",
       "  0.0000  0.0000  0.0000  ...   0.0000  0.0000  0.0000\n",
       "\n",
       "(0 ,31,.,.) = \n",
       "  0.1287  0.0000  0.0000  ...   0.0000  0.0000  0.0000\n",
       " -0.0000  0.0000  0.0000  ...   0.0000  0.0000  0.0000\n",
       "  0.7962  0.0000  0.0000  ...   0.0000  0.0000  0.0000\n",
       "           ...             ⋱             ...          \n",
       "  1.8875  0.0000  0.0000  ...   0.0000  0.0000  0.0000\n",
       "  0.0000  0.0000  0.0000  ...   0.0000  0.0000  0.0000\n",
       "  0.0000  0.0000  0.0000  ...   0.0000  0.0000  0.0000\n",
       "     ⋮ \n",
       "\n",
       "(1 ,0 ,.,.) = \n",
       " -0.0000  0.0000  0.0000  ...   0.0000  0.0000  0.0000\n",
       " -0.0000  0.0000  0.0000  ...   0.0000  0.0000  0.0000\n",
       " -0.0000  0.0000  0.0000  ...   0.0000  0.0000  0.0000\n",
       "           ...             ⋱             ...          \n",
       "  1.8311  0.0000  0.0000  ...   0.0000  0.0000  0.0000\n",
       "  0.0000  0.0000  0.0000  ...   0.0000  0.0000  0.0000\n",
       "  0.0000  0.0000  0.0000  ...   0.0000  0.0000  0.0000\n",
       "\n",
       "(1 ,1 ,.,.) = \n",
       " -0.0000  0.0000  0.0000  ...   0.0000  0.0000  0.0000\n",
       " -0.0000  0.0000  0.0000  ...   0.0000  0.0000  0.0000\n",
       " -0.0000  0.0000  0.0000  ...   0.0000  0.0000  0.0000\n",
       "           ...             ⋱             ...          \n",
       "  0.7370  0.0000  0.0000  ...   0.0000  0.0000  0.0000\n",
       "  0.0000  0.0000  0.0000  ...   0.0000  0.0000  0.0000\n",
       "  0.0000  0.0000  0.0000  ...   0.0000  0.0000  0.0000\n",
       "\n",
       "(1 ,2 ,.,.) = \n",
       " -0.0000  0.0000  0.0000  ...   0.0000  0.0000  0.0000\n",
       "  1.1436  0.0000  0.0000  ...   0.0000  0.0000  0.0000\n",
       "  0.2771  0.0000  0.0000  ...   0.0000  0.0000  0.0000\n",
       "           ...             ⋱             ...          \n",
       " -0.0000  0.0000  0.0000  ...   0.0000  0.0000  0.0000\n",
       "  0.0000  0.0000  0.0000  ...   0.0000  0.0000  0.0000\n",
       "  0.0000  0.0000  0.0000  ...   0.0000  0.0000  0.0000\n",
       "   ...\n",
       "\n",
       "(1 ,29,.,.) = \n",
       "  1.1465  0.0000  0.0000  ...   0.0000  0.0000  0.0000\n",
       "  0.2784  0.0000  0.0000  ...   0.0000  0.0000  0.0000\n",
       " -0.0000  0.0000  0.0000  ...   0.0000  0.0000  0.0000\n",
       "           ...             ⋱             ...          \n",
       "  0.6748  0.0000  0.0000  ...   0.0000  0.0000  0.0000\n",
       "  0.0000  0.0000  0.0000  ...   0.0000  0.0000  0.0000\n",
       "  0.0000  0.0000  0.0000  ...   0.0000  0.0000  0.0000\n",
       "\n",
       "(1 ,30,.,.) = \n",
       " -0.0000  0.0000  0.0000  ...   0.0000  0.0000  0.0000\n",
       "  0.8857  0.0000  0.0000  ...   0.0000  0.0000  0.0000\n",
       "  0.1482  0.0000  0.0000  ...   0.0000  0.0000  0.0000\n",
       "           ...             ⋱             ...          \n",
       " -0.0000  0.0000  0.0000  ...   0.0000  0.0000  0.0000\n",
       "  0.0000  0.0000  0.0000  ...   0.0000  0.0000  0.0000\n",
       "  0.0000  0.0000  0.0000  ...   0.0000  0.0000  0.0000\n",
       "\n",
       "(1 ,31,.,.) = \n",
       "  0.1287  0.0000  0.0000  ...   0.0000  0.0000  0.0000\n",
       " -0.0000  0.0000  0.0000  ...   0.0000  0.0000  0.0000\n",
       "  0.7962  0.0000  0.0000  ...   0.0000  0.0000  0.0000\n",
       "           ...             ⋱             ...          \n",
       "  1.8875  0.0000  0.0000  ...   0.0000  0.0000  0.0000\n",
       "  0.0000  0.0000  0.0000  ...   0.0000  0.0000  0.0000\n",
       "  0.0000  0.0000  0.0000  ...   0.0000  0.0000  0.0000\n",
       "[torch.cuda.FloatTensor of size 2x32x10x10 (GPU 0)]"
      ]
     },
     "execution_count": 3,
     "metadata": {},
     "output_type": "execute_result"
    }
   ],
   "source": [
    "output"
   ]
  },
  {
   "cell_type": "code",
   "execution_count": 11,
   "metadata": {},
   "outputs": [
    {
     "data": {
      "text/plain": [
       "\n",
       " 15\n",
       " 23\n",
       "[torch.LongTensor of size 2]"
      ]
     },
     "execution_count": 11,
     "metadata": {},
     "output_type": "execute_result"
    }
   ],
   "source": [
    "model.input_spatial_size(torch.LongTensor([1, 2]))"
   ]
  },
  {
   "cell_type": "code",
   "execution_count": 23,
   "metadata": {},
   "outputs": [],
   "source": [
    "a = np.ones((2,3,4))"
   ]
  },
  {
   "cell_type": "code",
   "execution_count": 24,
   "metadata": {},
   "outputs": [
    {
     "data": {
      "text/plain": [
       "(2, 3, 4)"
      ]
     },
     "execution_count": 24,
     "metadata": {},
     "output_type": "execute_result"
    }
   ],
   "source": [
    "a.shape"
   ]
  },
  {
   "cell_type": "code",
   "execution_count": 27,
   "metadata": {},
   "outputs": [
    {
     "data": {
      "text/plain": [
       "(2, 3, 4, 5)"
      ]
     },
     "execution_count": 27,
     "metadata": {},
     "output_type": "execute_result"
    }
   ],
   "source": [
    "np.stack([a]*5, axis=3).shape"
   ]
  },
  {
   "cell_type": "code",
   "execution_count": 29,
   "metadata": {},
   "outputs": [
    {
     "data": {
      "text/plain": [
       "\n",
       " 1\n",
       " 1\n",
       " 1\n",
       "[torch.FloatTensor of size 3]"
      ]
     },
     "execution_count": 29,
     "metadata": {},
     "output_type": "execute_result"
    }
   ],
   "source": [
    "torch.ones((3,))"
   ]
  },
  {
   "cell_type": "code",
   "execution_count": 31,
   "metadata": {},
   "outputs": [
    {
     "data": {
      "text/plain": [
       "[torch.LongTensor with no dimension]"
      ]
     },
     "execution_count": 31,
     "metadata": {},
     "output_type": "execute_result"
    }
   ],
   "source": [
    "torch.nonzero(torch.zeros((3,)))"
   ]
  },
  {
   "cell_type": "code",
   "execution_count": 36,
   "metadata": {},
   "outputs": [
    {
     "data": {
      "text/plain": [
       "dtype('int64')"
      ]
     },
     "execution_count": 36,
     "metadata": {},
     "output_type": "execute_result"
    }
   ],
   "source": [
    "np.dtype(np.arange(5)[0])"
   ]
  },
  {
   "cell_type": "code",
   "execution_count": null,
   "metadata": {
    "collapsed": true
   },
   "outputs": [],
   "source": []
  }
 ],
 "metadata": {
  "kernelspec": {
   "display_name": "Python [default]",
   "language": "python",
   "name": "python2"
  },
  "language_info": {
   "codemirror_mode": {
    "name": "ipython",
    "version": 2
   },
   "file_extension": ".py",
   "mimetype": "text/x-python",
   "name": "python",
   "nbconvert_exporter": "python",
   "pygments_lexer": "ipython2",
   "version": "2.7.13"
  }
 },
 "nbformat": 4,
 "nbformat_minor": 2
}
